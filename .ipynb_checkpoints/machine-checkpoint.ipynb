{
 "cells": [
  {
   "cell_type": "code",
   "execution_count": 180,
   "id": "4748decb",
   "metadata": {},
   "outputs": [],
   "source": [
    "import pandas as pd\n",
    "\n",
    "from sklearn.model_selection import train_test_split\n",
    "from sklearn.preprocessing import StandardScaler\n",
    "\n",
    "from tensorflow import keras\n",
    "from keras.models import Sequential\n",
    "from keras.layers import Dense\n",
    "from keras.layers import Dropout\n",
    "from keras.constraints import unit_norm\n",
    "\n",
    "from matplotlib import pyplot as plt"
   ]
  },
  {
   "cell_type": "code",
   "execution_count": 179,
   "id": "e09639d5",
   "metadata": {},
   "outputs": [],
   "source": [
    "def loadNBAData():\n",
    "    raw_data = pd.read_csv('./convertcsv.csv', sep=',')\n",
    "    raw_data = raw_data.sample(frac = 1)\n",
    "    results = raw_data.pop('WL')\n",
    "    results_final = results.map(lambda x: 1 if x == 'W' else 0)\n",
    "    data_cleaned = raw_data.drop(columns=['SEASON_YEAR', 'TEAM_ID', 'GAME_ID', 'TEAM_ABBREVIATION', 'TEAM_NAME', 'MATCHUP', 'GAME_DATE', 'MIN'])\n",
    "    data_final = data_cleaned.filter(regex='.*(?<!RANK)$')\n",
    "    \n",
    "    return (data_final, results_final)"
   ]
  },
  {
   "cell_type": "code",
   "execution_count": 178,
   "id": "08c22595",
   "metadata": {},
   "outputs": [],
   "source": [
    "def getModelAccuracy(featuresUsed):\n",
    "    # todo this doesnt need to be loaded here\n",
    "    (data_final, results_final) = loadNBAData\n",
    "\n",
    "\n",
    "    # get an array of indexes of True values, eg for [True, False, True] get [0, 2]\n",
    "    ziparr = zip(featuresUsed, range(len(featuresUsed)))\n",
    "    remainingFeatures = list(map(lambda x: x[1], filter(lambda s: s[0] , ziparr)))\n",
    "    \n",
    "    data_final = data_final.iloc[:, remainingFeatures]\n",
    "    data_final.head()\n",
    "    \n",
    "    # create model\n",
    "    X_train, X_test, y_train, y_test = train_test_split(X, y, test_size=0.33, random_state=7, stratify=y)\n",
    "    scaler = StandardScaler()\n",
    "    scaler.fit(X_train)\n",
    "    X_train = scaler.transform(X_train)\n",
    "    X_test = scaler.transform(X_test)\n",
    "    \n",
    "    model = Sequential()\n",
    "    model.add(Dense(input_dim=X_train.shape[1], units=500, activation='relu'))\n",
    "    model.add(Dropout(rate=0.2))\n",
    "    model.add(Dense(units=40, activation='relu'))\n",
    "    model.add(Dense(units=1, activation='sigmoid'))\n",
    "    model.compile(optimizer='adam', loss='binary_crossentropy', metrics=['accuracy'], kernel_constraint=unit_norm())\n",
    "    \n",
    "    history = model.fit(X_train, y_train, batch_size=64, epochs=20, verbose=1, validation_split=0.3)\n",
    "    return 0"
   ]
  },
  {
   "cell_type": "code",
   "execution_count": 175,
   "id": "7fe24021",
   "metadata": {},
   "outputs": [
    {
     "data": {
      "text/plain": [
       "(2160, 8)"
      ]
     },
     "execution_count": 175,
     "metadata": {},
     "output_type": "execute_result"
    }
   ],
   "source": [
    "# testarr = np.array([True if np.random.random() < 0.5 else False for x in range(21)])\n",
    "# ziparr = zip(testarr, range(len(testarr)))\n",
    "\n",
    "# # get an array of indexes of True values, eg for [True, False, True] get [0, 2]\n",
    "# remainingFeatures = list(map(lambda x: x[1], filter(lambda s: s[0] , ziparr)))\n",
    "\n",
    "# data_without_rank = data_without_rank.iloc[:, remainingFeatures]\n",
    "# data_without_rank.head()"
   ]
  },
  {
   "cell_type": "code",
   "execution_count": 181,
   "id": "ff8dc8c5",
   "metadata": {},
   "outputs": [],
   "source": [
    "X, y = loadNBAData()"
   ]
  },
  {
   "cell_type": "code",
   "execution_count": 182,
   "id": "509fb563",
   "metadata": {},
   "outputs": [],
   "source": [
    "X_train, X_test, y_train, y_test = train_test_split(X, y, test_size=0.1, random_state=7, stratify=y)"
   ]
  },
  {
   "cell_type": "code",
   "execution_count": 183,
   "id": "884a94f6",
   "metadata": {},
   "outputs": [],
   "source": [
    "scaler = StandardScaler()\n",
    "scaler.fit(X_train)\n",
    "X_train = scaler.transform(X_train)\n",
    "X_test = scaler.transform(X_test)"
   ]
  },
  {
   "cell_type": "code",
   "execution_count": 188,
   "id": "820f5689",
   "metadata": {},
   "outputs": [],
   "source": [
    "model = Sequential()\n",
    "model.add(Dense(input_dim=X_train.shape[1], units=500, activation='relu', kernel_constraint=unit_norm()))\n",
    "model.add(Dropout(rate=0.2))\n",
    "model.add(Dense(units=100, activation='relu'))\n",
    "model.add(Dense(units=1, activation='sigmoid'))\n",
    "model.compile(optimizer='adam', loss='binary_crossentropy', metrics=['accuracy'])"
   ]
  },
  {
   "cell_type": "code",
   "execution_count": 189,
   "id": "79cce7a1",
   "metadata": {},
   "outputs": [
    {
     "name": "stdout",
     "output_type": "stream",
     "text": [
      "Epoch 1/20\n",
      "22/22 [==============================] - 0s 6ms/step - loss: 0.6421 - accuracy: 0.6493 - val_loss: 0.5341 - val_accuracy: 0.7175\n",
      "Epoch 2/20\n",
      "22/22 [==============================] - 0s 2ms/step - loss: 0.5436 - accuracy: 0.7250 - val_loss: 0.5101 - val_accuracy: 0.7226\n",
      "Epoch 3/20\n",
      "22/22 [==============================] - 0s 2ms/step - loss: 0.5261 - accuracy: 0.7441 - val_loss: 0.5103 - val_accuracy: 0.7260\n",
      "Epoch 4/20\n",
      "22/22 [==============================] - 0s 2ms/step - loss: 0.5107 - accuracy: 0.7500 - val_loss: 0.5031 - val_accuracy: 0.7363\n",
      "Epoch 5/20\n",
      "22/22 [==============================] - 0s 2ms/step - loss: 0.4955 - accuracy: 0.7603 - val_loss: 0.5054 - val_accuracy: 0.7397\n",
      "Epoch 6/20\n",
      "22/22 [==============================] - 0s 2ms/step - loss: 0.4977 - accuracy: 0.7596 - val_loss: 0.5202 - val_accuracy: 0.7192\n",
      "Epoch 7/20\n",
      "22/22 [==============================] - 0s 2ms/step - loss: 0.4928 - accuracy: 0.7574 - val_loss: 0.5127 - val_accuracy: 0.7260\n",
      "Epoch 8/20\n",
      "22/22 [==============================] - 0s 2ms/step - loss: 0.4679 - accuracy: 0.7882 - val_loss: 0.5156 - val_accuracy: 0.7260\n",
      "Epoch 9/20\n",
      "22/22 [==============================] - 0s 2ms/step - loss: 0.4663 - accuracy: 0.7926 - val_loss: 0.5225 - val_accuracy: 0.7243\n",
      "Epoch 10/20\n",
      "22/22 [==============================] - 0s 2ms/step - loss: 0.4613 - accuracy: 0.7846 - val_loss: 0.5208 - val_accuracy: 0.7175\n",
      "Epoch 11/20\n",
      "22/22 [==============================] - 0s 2ms/step - loss: 0.4494 - accuracy: 0.7949 - val_loss: 0.5193 - val_accuracy: 0.7243\n",
      "Epoch 12/20\n",
      "22/22 [==============================] - 0s 2ms/step - loss: 0.4432 - accuracy: 0.8059 - val_loss: 0.5298 - val_accuracy: 0.7209\n",
      "Epoch 13/20\n",
      "22/22 [==============================] - 0s 2ms/step - loss: 0.4332 - accuracy: 0.7985 - val_loss: 0.5352 - val_accuracy: 0.7346\n",
      "Epoch 14/20\n",
      "22/22 [==============================] - 0s 2ms/step - loss: 0.4331 - accuracy: 0.8000 - val_loss: 0.5272 - val_accuracy: 0.7260\n",
      "Epoch 15/20\n",
      "22/22 [==============================] - 0s 3ms/step - loss: 0.4215 - accuracy: 0.8110 - val_loss: 0.5424 - val_accuracy: 0.7243\n",
      "Epoch 16/20\n",
      "22/22 [==============================] - 0s 2ms/step - loss: 0.4094 - accuracy: 0.8199 - val_loss: 0.5376 - val_accuracy: 0.7243\n",
      "Epoch 17/20\n",
      "22/22 [==============================] - 0s 2ms/step - loss: 0.4046 - accuracy: 0.8169 - val_loss: 0.5351 - val_accuracy: 0.7329\n",
      "Epoch 18/20\n",
      "22/22 [==============================] - 0s 2ms/step - loss: 0.3926 - accuracy: 0.8250 - val_loss: 0.5598 - val_accuracy: 0.7123\n",
      "Epoch 19/20\n",
      "22/22 [==============================] - 0s 2ms/step - loss: 0.3903 - accuracy: 0.8221 - val_loss: 0.5549 - val_accuracy: 0.7140\n",
      "Epoch 20/20\n",
      "22/22 [==============================] - 0s 2ms/step - loss: 0.3874 - accuracy: 0.8316 - val_loss: 0.5649 - val_accuracy: 0.7243\n"
     ]
    }
   ],
   "source": [
    "history = model.fit(X_train, y_train, batch_size=64, epochs=20, verbose=1, validation_split=0.3)"
   ]
  },
  {
   "cell_type": "code",
   "execution_count": 141,
   "id": "ba0ff6cd",
   "metadata": {},
   "outputs": [
    {
     "data": {
      "text/plain": [
       "[0, 1, 2, 3, 4, 5, 6, 7, 8, 9, 10, 11, 12, 13, 14, 15, 16, 17, 18, 19]"
      ]
     },
     "execution_count": 141,
     "metadata": {},
     "output_type": "execute_result"
    }
   ],
   "source": [
    "epochs = history.epoch\n",
    "acc = history.history['accuracy']\n",
    "val_acc = history.history['val_accuracy']\n",
    "epochs"
   ]
  },
  {
   "cell_type": "code",
   "execution_count": 97,
   "id": "677ce46a",
   "metadata": {},
   "outputs": [
    {
     "name": "stdout",
     "output_type": "stream",
     "text": [
      "12/12 [==============================] - 0s 733us/step - loss: 2.8948 - accuracy: 0.6746\n"
     ]
    },
    {
     "data": {
      "text/plain": [
       "[2.8947770595550537, 0.6746143102645874]"
      ]
     },
     "execution_count": 97,
     "metadata": {},
     "output_type": "execute_result"
    }
   ],
   "source": [
    "model.evaluate(X_test, y_test, batch_size=64)"
   ]
  },
  {
   "cell_type": "code",
   "execution_count": 105,
   "id": "3e374552",
   "metadata": {},
   "outputs": [
    {
     "data": {
      "text/plain": [
       "array([[0.997159]], dtype=float32)"
      ]
     },
     "execution_count": 105,
     "metadata": {},
     "output_type": "execute_result"
    }
   ],
   "source": [
    "import numpy as np\n",
    "x_new = np.random.random(X_train.shape[1]).reshape(1, -1)\n",
    "x_new = scaler.transform(x_new)\n",
    "\n",
    "y_sigmoid = model.predict(x_new)\n",
    "y_sigmoid"
   ]
  },
  {
   "cell_type": "code",
   "execution_count": null,
   "id": "aae805b8",
   "metadata": {},
   "outputs": [],
   "source": []
  }
 ],
 "metadata": {
  "kernelspec": {
   "display_name": "Python 3 (ipykernel)",
   "language": "python",
   "name": "python3"
  },
  "language_info": {
   "codemirror_mode": {
    "name": "ipython",
    "version": 3
   },
   "file_extension": ".py",
   "mimetype": "text/x-python",
   "name": "python",
   "nbconvert_exporter": "python",
   "pygments_lexer": "ipython3",
   "version": "3.9.6"
  }
 },
 "nbformat": 4,
 "nbformat_minor": 5
}
