{
 "cells": [
  {
   "cell_type": "code",
   "execution_count": 211,
   "id": "4748decb",
   "metadata": {},
   "outputs": [],
   "source": [
    "import pandas as pd\n",
    "\n",
    "from sklearn.model_selection import train_test_split\n",
    "from sklearn.preprocessing import StandardScaler\n",
    "\n",
    "from tensorflow import keras\n",
    "from keras.models import Sequential\n",
    "from keras.layers import Dense\n",
    "from keras.layers import Dropout\n",
    "from keras.constraints import unit_norm\n",
    "\n",
    "from matplotlib import pyplot as plt"
   ]
  },
  {
   "cell_type": "code",
   "execution_count": 212,
   "id": "e09639d5",
   "metadata": {},
   "outputs": [],
   "source": [
    "def loadNBAData():\n",
    "    raw_data = pd.read_csv('./convertcsv.csv', sep=',')\n",
    "    raw_data = raw_data.sample(frac = 1)\n",
    "    results = raw_data.pop('WL')\n",
    "    results_final = results.map(lambda x: 1 if x == 'W' else 0)\n",
    "    data_cleaned = raw_data.drop(columns=['SEASON_YEAR', 'TEAM_ID', 'GAME_ID', 'TEAM_ABBREVIATION', 'TEAM_NAME', 'MATCHUP', 'GAME_DATE', 'MIN'])\n",
    "    data_final = data_cleaned.filter(regex='.*(?<!RANK)$')\n",
    "    \n",
    "    return (data_final, results_final)"
   ]
  },
  {
   "cell_type": "code",
   "execution_count": 2,
   "id": "08c22595",
   "metadata": {},
   "outputs": [],
   "source": [
    "def getModelAccuracy(featuresUsed):\n",
    "    # todo this doesnt need to be loaded here\n",
    "    (data_final, results_final) = loadNBAData()\n",
    "\n",
    "    # get an array of indexes of True values, eg for [True, False, True] get [0, 2]\n",
    "    remainingFeatures = [x for x in range(len(featuresUsed)) if featuresUsed[x]]\n",
    "    data_final = data_final.iloc[:, remainingFeatures]\n",
    "    \n",
    "    # create model\n",
    "    X_train, X_test, y_train, y_test = train_test_split(data_final, results_final, test_size=0.33, random_state=7, stratify=y)\n",
    "    scaler = StandardScaler()\n",
    "    scaler.fit(X_train)\n",
    "    X_train = scaler.transform(X_train)\n",
    "    X_test = scaler.transform(X_test)\n",
    "    \n",
    "    model = Sequential()\n",
    "    model.add(Dense(input_dim=X_train.shape[1], units=500, activation='relu', kernel_constraint=unit_norm()))\n",
    "    model.add(Dropout(rate=0.2))\n",
    "    model.add(Dense(units=100, activation='relu', kernel_constraint=unit_norm()))\n",
    "    model.add(Dense(units=1, activation='sigmoid'))\n",
    "    model.compile(optimizer='adam', loss='binary_crossentropy', metrics=['accuracy'])\n",
    "    \n",
    "    history = model.fit(X_train, y_train, batch_size=64, epochs=20, verbose=1, validation_split=0.3)\n",
    "    return history.history['val_accuracy'][-1]"
   ]
  },
  {
   "cell_type": "code",
   "execution_count": 216,
   "id": "7fe24021",
   "metadata": {},
   "outputs": [
    {
     "name": "stdout",
     "output_type": "stream",
     "text": [
      "Epoch 1/20\n",
      "16/16 [==============================] - 0s 8ms/step - loss: 0.5509 - accuracy: 0.7273 - val_loss: 0.5981 - val_accuracy: 0.6966\n",
      "Epoch 2/20\n",
      "16/16 [==============================] - 0s 2ms/step - loss: 0.5273 - accuracy: 0.7273 - val_loss: 0.5357 - val_accuracy: 0.7379\n",
      "Epoch 3/20\n",
      "16/16 [==============================] - 0s 2ms/step - loss: 0.5070 - accuracy: 0.7470 - val_loss: 0.5224 - val_accuracy: 0.7494\n",
      "Epoch 4/20\n",
      "16/16 [==============================] - 0s 2ms/step - loss: 0.5001 - accuracy: 0.7470 - val_loss: 0.5478 - val_accuracy: 0.7241\n",
      "Epoch 5/20\n",
      "16/16 [==============================] - 0s 2ms/step - loss: 0.4956 - accuracy: 0.7451 - val_loss: 0.5275 - val_accuracy: 0.7471\n",
      "Epoch 6/20\n",
      "16/16 [==============================] - 0s 3ms/step - loss: 0.4888 - accuracy: 0.7470 - val_loss: 0.5296 - val_accuracy: 0.7425\n",
      "Epoch 7/20\n",
      "16/16 [==============================] - 0s 3ms/step - loss: 0.4802 - accuracy: 0.7599 - val_loss: 0.5308 - val_accuracy: 0.7425\n",
      "Epoch 8/20\n",
      "16/16 [==============================] - 0s 3ms/step - loss: 0.4837 - accuracy: 0.7510 - val_loss: 0.5318 - val_accuracy: 0.7402\n",
      "Epoch 9/20\n",
      "16/16 [==============================] - 0s 3ms/step - loss: 0.4842 - accuracy: 0.7480 - val_loss: 0.5341 - val_accuracy: 0.7425\n",
      "Epoch 10/20\n",
      "16/16 [==============================] - 0s 3ms/step - loss: 0.4764 - accuracy: 0.7480 - val_loss: 0.5350 - val_accuracy: 0.7379\n",
      "Epoch 11/20\n",
      "16/16 [==============================] - 0s 3ms/step - loss: 0.4755 - accuracy: 0.7678 - val_loss: 0.5313 - val_accuracy: 0.7402\n",
      "Epoch 12/20\n",
      "16/16 [==============================] - 0s 3ms/step - loss: 0.4664 - accuracy: 0.7628 - val_loss: 0.5326 - val_accuracy: 0.7448\n",
      "Epoch 13/20\n",
      "16/16 [==============================] - 0s 3ms/step - loss: 0.4697 - accuracy: 0.7589 - val_loss: 0.5417 - val_accuracy: 0.7287\n",
      "Epoch 14/20\n",
      "16/16 [==============================] - 0s 3ms/step - loss: 0.4636 - accuracy: 0.7638 - val_loss: 0.5398 - val_accuracy: 0.7356\n",
      "Epoch 15/20\n",
      "16/16 [==============================] - 0s 3ms/step - loss: 0.4688 - accuracy: 0.7559 - val_loss: 0.5393 - val_accuracy: 0.7379\n",
      "Epoch 16/20\n",
      "16/16 [==============================] - 0s 2ms/step - loss: 0.4659 - accuracy: 0.7628 - val_loss: 0.5363 - val_accuracy: 0.7333\n",
      "Epoch 17/20\n",
      "16/16 [==============================] - 0s 2ms/step - loss: 0.4540 - accuracy: 0.7688 - val_loss: 0.5397 - val_accuracy: 0.7264\n",
      "Epoch 18/20\n",
      "16/16 [==============================] - 0s 2ms/step - loss: 0.4557 - accuracy: 0.7737 - val_loss: 0.5465 - val_accuracy: 0.7379\n",
      "Epoch 19/20\n",
      "16/16 [==============================] - 0s 3ms/step - loss: 0.4541 - accuracy: 0.7727 - val_loss: 0.5446 - val_accuracy: 0.7356\n",
      "Epoch 20/20\n",
      "16/16 [==============================] - 0s 2ms/step - loss: 0.4502 - accuracy: 0.7757 - val_loss: 0.5478 - val_accuracy: 0.7379\n"
     ]
    },
    {
     "data": {
      "text/plain": [
       "0.7379310131072998"
      ]
     },
     "execution_count": 216,
     "metadata": {},
     "output_type": "execute_result"
    }
   ],
   "source": [
    "# testarr = np.array([True if np.random.random() < 0.5 else False for x in range(21)])\n",
    "# ziparr = zip(testarr, range(len(testarr)))\n",
    "\n",
    "# # get an array of indexes of True values, eg for [True, False, True] get [0, 2]\n",
    "# remainingFeatures = list(map(lambda x: x[1], filter(lambda s: s[0] , ziparr)))\n",
    "\n",
    "# data_without_rank = data_without_rank.iloc[:, remainingFeatures]\n",
    "# data_without_rank.head()\n",
    "getModelAccuracy([False, True, False, False, True, False, False, False, True, False, True, False, False, False, False, True, False, False, False, False, True])"
   ]
  },
  {
   "cell_type": "code",
   "execution_count": 197,
   "id": "ff8dc8c5",
   "metadata": {},
   "outputs": [],
   "source": [
    "X, y = loadNBAData()"
   ]
  },
  {
   "cell_type": "code",
   "execution_count": 198,
   "id": "509fb563",
   "metadata": {},
   "outputs": [],
   "source": [
    "X_train, X_test, y_train, y_test = train_test_split(X, y, test_size=0.1, random_state=7, stratify=y)"
   ]
  },
  {
   "cell_type": "code",
   "execution_count": 199,
   "id": "884a94f6",
   "metadata": {},
   "outputs": [],
   "source": [
    "scaler = StandardScaler()\n",
    "scaler.fit(X_train)\n",
    "X_train = scaler.transform(X_train)\n",
    "X_test = scaler.transform(X_test)"
   ]
  },
  {
   "cell_type": "code",
   "execution_count": 200,
   "id": "820f5689",
   "metadata": {},
   "outputs": [],
   "source": [
    "model = Sequential()\n",
    "model.add(Dense(input_dim=X_train.shape[1], units=500, activation='relu', kernel_constraint=unit_norm()))\n",
    "model.add(Dropout(rate=0.2))\n",
    "model.add(Dense(units=100, activation='relu', kernel_constraint=unit_norm()))\n",
    "model.add(Dense(units=1, activation='sigmoid'))\n",
    "model.compile(optimizer='adam', loss='binary_crossentropy', metrics=['accuracy'])"
   ]
  },
  {
   "cell_type": "code",
   "execution_count": 201,
   "id": "79cce7a1",
   "metadata": {},
   "outputs": [
    {
     "name": "stdout",
     "output_type": "stream",
     "text": [
      "Epoch 1/20\n",
      "22/22 [==============================] - 1s 6ms/step - loss: 0.5878 - accuracy: 0.6919 - val_loss: 0.5470 - val_accuracy: 0.7123\n",
      "Epoch 2/20\n",
      "22/22 [==============================] - 0s 2ms/step - loss: 0.5103 - accuracy: 0.7404 - val_loss: 0.5323 - val_accuracy: 0.7226\n",
      "Epoch 3/20\n",
      "22/22 [==============================] - 0s 2ms/step - loss: 0.5050 - accuracy: 0.7456 - val_loss: 0.5543 - val_accuracy: 0.7209\n",
      "Epoch 4/20\n",
      "22/22 [==============================] - 0s 2ms/step - loss: 0.4780 - accuracy: 0.7632 - val_loss: 0.5432 - val_accuracy: 0.7072\n",
      "Epoch 5/20\n",
      "22/22 [==============================] - 0s 2ms/step - loss: 0.4727 - accuracy: 0.7750 - val_loss: 0.5565 - val_accuracy: 0.7209\n",
      "Epoch 6/20\n",
      "22/22 [==============================] - 0s 2ms/step - loss: 0.4499 - accuracy: 0.7934 - val_loss: 0.5656 - val_accuracy: 0.7192\n",
      "Epoch 7/20\n",
      "22/22 [==============================] - 0s 2ms/step - loss: 0.4408 - accuracy: 0.7963 - val_loss: 0.5601 - val_accuracy: 0.7226\n",
      "Epoch 8/20\n",
      "22/22 [==============================] - 0s 2ms/step - loss: 0.4345 - accuracy: 0.8118 - val_loss: 0.5710 - val_accuracy: 0.7021\n",
      "Epoch 9/20\n",
      "22/22 [==============================] - 0s 2ms/step - loss: 0.4324 - accuracy: 0.8007 - val_loss: 0.5758 - val_accuracy: 0.7072\n",
      "Epoch 10/20\n",
      "22/22 [==============================] - 0s 2ms/step - loss: 0.4136 - accuracy: 0.8059 - val_loss: 0.5866 - val_accuracy: 0.7003\n",
      "Epoch 11/20\n",
      "22/22 [==============================] - 0s 2ms/step - loss: 0.4050 - accuracy: 0.8250 - val_loss: 0.5942 - val_accuracy: 0.7277\n",
      "Epoch 12/20\n",
      "22/22 [==============================] - 0s 2ms/step - loss: 0.4063 - accuracy: 0.8118 - val_loss: 0.5882 - val_accuracy: 0.7038\n",
      "Epoch 13/20\n",
      "22/22 [==============================] - 0s 2ms/step - loss: 0.3917 - accuracy: 0.8221 - val_loss: 0.6034 - val_accuracy: 0.7140\n",
      "Epoch 14/20\n",
      "22/22 [==============================] - 0s 2ms/step - loss: 0.3858 - accuracy: 0.8279 - val_loss: 0.6249 - val_accuracy: 0.7158\n",
      "Epoch 15/20\n",
      "22/22 [==============================] - 0s 2ms/step - loss: 0.3719 - accuracy: 0.8426 - val_loss: 0.5989 - val_accuracy: 0.6969\n",
      "Epoch 16/20\n",
      "22/22 [==============================] - 0s 2ms/step - loss: 0.3589 - accuracy: 0.8434 - val_loss: 0.6217 - val_accuracy: 0.6952\n",
      "Epoch 17/20\n",
      "22/22 [==============================] - 0s 2ms/step - loss: 0.3491 - accuracy: 0.8478 - val_loss: 0.6244 - val_accuracy: 0.6901\n",
      "Epoch 18/20\n",
      "22/22 [==============================] - 0s 2ms/step - loss: 0.3359 - accuracy: 0.8632 - val_loss: 0.6211 - val_accuracy: 0.7140\n",
      "Epoch 19/20\n",
      "22/22 [==============================] - 0s 2ms/step - loss: 0.3335 - accuracy: 0.8647 - val_loss: 0.6279 - val_accuracy: 0.7038\n",
      "Epoch 20/20\n",
      "22/22 [==============================] - 0s 2ms/step - loss: 0.3227 - accuracy: 0.8603 - val_loss: 0.6482 - val_accuracy: 0.6969\n"
     ]
    }
   ],
   "source": [
    "history = model.fit(X_train, y_train, batch_size=64, epochs=20, verbose=1, validation_split=0.3)"
   ]
  },
  {
   "cell_type": "code",
   "execution_count": 210,
   "id": "ba0ff6cd",
   "metadata": {},
   "outputs": [
    {
     "data": {
      "text/plain": [
       "[0.7123287916183472,\n",
       " 0.7226027250289917,\n",
       " 0.7208904027938843,\n",
       " 0.7071917653083801,\n",
       " 0.7208904027938843,\n",
       " 0.7191780805587769,\n",
       " 0.7226027250289917,\n",
       " 0.7020547986030579,\n",
       " 0.7071917653083801,\n",
       " 0.7003424763679504,\n",
       " 0.7277397513389587,\n",
       " 0.7037671208381653,\n",
       " 0.7140411138534546,\n",
       " 0.715753436088562,\n",
       " 0.6969178318977356,\n",
       " 0.6952054500579834,\n",
       " 0.6900684833526611,\n",
       " 0.7140411138534546,\n",
       " 0.7037671208381653,\n",
       " 0.6969178318977356]"
      ]
     },
     "execution_count": 210,
     "metadata": {},
     "output_type": "execute_result"
    }
   ],
   "source": [
    "epochs = history.epoch\n",
    "acc = history.history['accuracy']\n",
    "val_acc = history.history['val_accuracy']"
   ]
  },
  {
   "cell_type": "code",
   "execution_count": 203,
   "id": "677ce46a",
   "metadata": {},
   "outputs": [
    {
     "name": "stdout",
     "output_type": "stream",
     "text": [
      "4/4 [==============================] - 0s 1ms/step - loss: 0.6106 - accuracy: 0.7500\n"
     ]
    },
    {
     "data": {
      "text/plain": [
       "[0.610636830329895, 0.75]"
      ]
     },
     "execution_count": 203,
     "metadata": {},
     "output_type": "execute_result"
    }
   ],
   "source": [
    "model.evaluate(X_test, y_test, batch_size=64)"
   ]
  },
  {
   "cell_type": "code",
   "execution_count": 209,
   "id": "3e374552",
   "metadata": {},
   "outputs": [
    {
     "data": {
      "text/plain": [
       "array([[0.17314118]], dtype=float32)"
      ]
     },
     "execution_count": 209,
     "metadata": {},
     "output_type": "execute_result"
    }
   ],
   "source": [
    "import numpy as np\n",
    "x_new = np.random.random(X_train.shape[1]).reshape(1, -1)\n",
    "x_new = scaler.transform(x_new)\n",
    "\n",
    "y_sigmoid = model.predict(x_new)\n",
    "y_sigmoid"
   ]
  },
  {
   "cell_type": "code",
   "execution_count": 1,
   "id": "aae805b8",
   "metadata": {},
   "outputs": [
    {
     "data": {
      "text/plain": [
       "[0, 2, 3, 6]"
      ]
     },
     "execution_count": 1,
     "metadata": {},
     "output_type": "execute_result"
    }
   ],
   "source": [
    "testarr=[True, False, True, True, False, False, True]\n",
    "resarr=[x for x in range(len(testarr)) if testarr[x]]\n",
    "resarr"
   ]
  },
  {
   "cell_type": "code",
   "execution_count": null,
   "id": "3fba9bcd",
   "metadata": {},
   "outputs": [],
   "source": []
  }
 ],
 "metadata": {
  "kernelspec": {
   "display_name": "Python 3 (ipykernel)",
   "language": "python",
   "name": "python3"
  },
  "language_info": {
   "codemirror_mode": {
    "name": "ipython",
    "version": 3
   },
   "file_extension": ".py",
   "mimetype": "text/x-python",
   "name": "python",
   "nbconvert_exporter": "python",
   "pygments_lexer": "ipython3",
   "version": "3.9.6"
  }
 },
 "nbformat": 4,
 "nbformat_minor": 5
}
